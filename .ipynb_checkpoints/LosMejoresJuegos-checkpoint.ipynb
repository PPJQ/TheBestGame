{
 "cells": [
  {
   "cell_type": "markdown",
   "metadata": {},
   "source": [
    "# El Mejor Juego\n",
    "\n",
    "## Introducción\n",
    "\n",
    "En este análisis revisaremos un dataset con la información de las ventas de videojuegos de distintas plataformas del año 2016 con la finalidad de poder planear una campaña de publicidad para el año 2017.\n",
    "\n",
    "___"
   ]
  },
  {
   "cell_type": "markdown",
   "metadata": {},
   "source": [
    "## Paso 1: Exploración del Dataset:\n",
    "\n",
    "En este apartado cargaremos la información, revisaremos como se compone y plantearemos una estrategia para realizar el análisis. \n",
    "\n",
    "Para empezar cargaremos todas las librerías necesarias para realizar el proyecto. "
   ]
  },
  {
   "cell_type": "code",
   "execution_count": 4,
   "metadata": {},
   "outputs": [],
   "source": [
    "# Cargando librerías\n",
    "import pandas as pd\n",
    "import numpy as np\n",
    "from matplotlib import pyplot as plt\n",
    "from scipy import stats as st\n",
    "import seaborn as sns\n",
    "from math import factorial"
   ]
  },
  {
   "cell_type": "markdown",
   "metadata": {},
   "source": [
    "A continuación cargamos el archivo con la información:"
   ]
  },
  {
   "cell_type": "code",
   "execution_count": 5,
   "metadata": {},
   "outputs": [],
   "source": [
    "# Cargar el Dataset\n",
    "df_games = pd.read_csv('datasets/games.csv')\n"
   ]
  },
  {
   "cell_type": "markdown",
   "metadata": {},
   "source": [
    "Una vez cargado pasaremos a la revisión de su contenido, clasificación y detección de errores."
   ]
  },
  {
   "cell_type": "code",
   "execution_count": 6,
   "metadata": {},
   "outputs": [
    {
     "name": "stdout",
     "output_type": "stream",
     "text": [
      "<class 'pandas.core.frame.DataFrame'>\n",
      "RangeIndex: 16715 entries, 0 to 16714\n",
      "Data columns (total 11 columns):\n",
      " #   Column           Non-Null Count  Dtype  \n",
      "---  ------           --------------  -----  \n",
      " 0   Name             16713 non-null  object \n",
      " 1   Platform         16715 non-null  object \n",
      " 2   Year_of_Release  16446 non-null  float64\n",
      " 3   Genre            16713 non-null  object \n",
      " 4   NA_sales         16715 non-null  float64\n",
      " 5   EU_sales         16715 non-null  float64\n",
      " 6   JP_sales         16715 non-null  float64\n",
      " 7   Other_sales      16715 non-null  float64\n",
      " 8   Critic_Score     8137 non-null   float64\n",
      " 9   User_Score       10014 non-null  object \n",
      " 10  Rating           9949 non-null   object \n",
      "dtypes: float64(6), object(5)\n",
      "memory usage: 1.4+ MB\n",
      "                     Name Platform  Year_of_Release         Genre  NA_sales  \\\n",
      "729    Monster Hunter Tri      Wii           2009.0  Role-Playing      0.65   \n",
      "899           Red Faction      PS2           2001.0       Shooter      0.76   \n",
      "2253  Knockout Kings 2000      N64           1999.0      Fighting      0.63   \n",
      "761         Scribblenauts       DS           2009.0        Puzzle      1.67   \n",
      "5308    College Hoops 2K8      PS2           2007.0        Sports      0.17   \n",
      "\n",
      "      EU_sales  JP_sales  Other_sales  Critic_Score User_Score Rating  \n",
      "729       0.40      1.05         0.11          84.0        8.6      T  \n",
      "899       0.96      0.00         0.20          88.0          8      M  \n",
      "2253      0.27      0.00         0.02           NaN        NaN    NaN  \n",
      "761       0.30      0.02         0.18          79.0        7.6   E10+  \n",
      "5308      0.13      0.00         0.04          66.0        tbd      E  \n"
     ]
    }
   ],
   "source": [
    "# Información general:\n",
    "df_games.info()\n",
    "# Muestra de la información:\n",
    "print(df_games.sample(5, random_state=1133))"
   ]
  },
  {
   "cell_type": "markdown",
   "metadata": {},
   "source": [
    "Revisando los datos, podemos describir el contenido de las columnas como lo siguiente: \n",
    "\n",
    "* Name -> Nombre del juego\n",
    "* Platform -> Plataforma del juego\n",
    "* Year_of_Release -> Año de lanzamiento\n",
    "* Genre -> Genero del juego\n",
    "* NA_sales -> Ventas en Norteamérica en millones de dólares estadounidenses\n",
    "* EU_sales ->  Ventas en Europa en millones de dólares estadounidenses\n",
    "* JP_sales -> Ventas en Japón en millones de dólares estadounidenses\n",
    "* Other_sales -> Ventas en otros países en millones de dólares estadounidenses\n",
    "* Critic_Score -> Calificación de criticas por profesionales (máximo 100)\n",
    "* User_Score -> Calificación de criticas por usuarios (máximo 10)\n",
    "* Rating -> Clasificación de cada juego (Entertainment Software Rating Board)\n",
    "\n",
    "Adicional a esto notamos ciertos detalles en la información:\n",
    "\n",
    "* Los nombres de las columnas hace uso de mayúsculas.\n",
    "* El tipo de datos de la columna `Year_of_Release` debería de ser de tipo entero (int)\n",
    "* Las siguientes columnas cuentan con datos ausentes:\n",
    "    * Name\n",
    "    * Year_of_Release\n",
    "    * Genre\n",
    "    * Critic_Score\n",
    "    * User_Score\n",
    "    * Rating\n",
    "\n",
    "Mas adelante abordaremos como lideraremos con el problema de los valores ausentes.\n",
    "___"
   ]
  },
  {
   "cell_type": "markdown",
   "metadata": {},
   "source": [
    "## Paso 2: Preparación de los datos\n",
    "\n",
    "Como pudimos ver en el primer paso, se detectaron los siguientes problemas:\n",
    "\n",
    "* Problemas con los nombres de columnas\n",
    "* Problemas de tipos de datos de columnas \n",
    "* Valores ausentes\n",
    "\n",
    "Adicional a estos problemas, corroboraremos valores duplicados. \n"
   ]
  },
  {
   "cell_type": "markdown",
   "metadata": {},
   "source": [
    "\n",
    "### Cambio de nombre de las columnas: Cambiar Mayúsculas por Minúsculas\n",
    "Primeramente atenderemos el problema de los nombres de las columnas.\n",
    "\n",
    "Como se aclaraba en el primer paso; Los nombres de las columnas del DataFrame hacen uso de mayúsculas, lo cual pudiera representar un problema al momento de buscar información dentro del DataFrame. Para solucionar este problema, cambiaremos los caracteres en mayúsculas a minúsculas."
   ]
  },
  {
   "cell_type": "code",
   "execution_count": 7,
   "metadata": {},
   "outputs": [
    {
     "name": "stdout",
     "output_type": "stream",
     "text": [
      "Index(['name', 'platform', 'year_of_release', 'genre', 'na_sales', 'eu_sales',\n",
      "       'jp_sales', 'other_sales', 'critic_score', 'user_score', 'rating'],\n",
      "      dtype='object')\n"
     ]
    }
   ],
   "source": [
    "# Cambiar de Mayúsculas a Minúsculas\n",
    "\n",
    "# Declaramos una lista que nos ayudara a almacenar los nombres nuevos de las columnas\n",
    "new_col_names = []\n",
    "\n",
    "for old_name in df_games.columns:\n",
    "    # Eliminamos espacios al principio y al final (Solo por precaución)\n",
    "    name_stripped = old_name.strip()\n",
    "    # Ponemos todas las letras en minúsculas:\n",
    "    name_lowered = name_stripped.lower()\n",
    "    # Agregamos el nuevo nombre a la lista de nuevos nombres de columna\n",
    "    new_col_names.append(name_lowered)\n",
    "    \n",
    "# Remplazamos los nombres anteriores por los nuevos\n",
    "df_games.columns = new_col_names\n",
    "\n",
    "# Mostramos los nuevos nombres de columnas\n",
    "print(df_games.columns)"
   ]
  },
  {
   "cell_type": "markdown",
   "metadata": {},
   "source": [
    "Una vez que cambiamos los nombres de las columnas a minúsculas, podemos proceder a ver duplicados.\n"
   ]
  },
  {
   "cell_type": "markdown",
   "metadata": {},
   "source": [
    "\n",
    "### Gestión de duplicados\n",
    "\n",
    "Para revisar elementos duplicados, seleccionaremos las columnas `name` y `platform`, pues podemos concluir que solo existe un juego para cada plataforma, es decir, el juego \"Assassins Creed\" se repetirá varias veces en la columna `name` las cuales corresponden a las plataformas \"PC\", \"PS2\", \"Wii\", etc. Lo que buscamos es que no se repita el juego por plataforma. Primeramente busquemos valores únicos en busca de valores duplicados por malas escrituras."
   ]
  },
  {
   "cell_type": "code",
   "execution_count": 8,
   "metadata": {},
   "outputs": [
    {
     "name": "stdout",
     "output_type": "stream",
     "text": [
      "name\n",
      "Need for Speed: Most Wanted          12\n",
      "LEGO Marvel Super Heroes              9\n",
      "FIFA 14                               9\n",
      "Madden NFL 07                         9\n",
      "Ratatouille                           9\n",
      "                                     ..\n",
      "Beastly Frantic Foto                  1\n",
      "Duke Nukem Trilogy: Critical Mass     1\n",
      "The Kore Gang                         1\n",
      "Shukufuku no Campanella Portable      1\n",
      "Haitaka no Psychedelica               1\n",
      "Name: count, Length: 11559, dtype: int64\n",
      "\n",
      "platform\n",
      "PS2     2161\n",
      "DS      2151\n",
      "PS3     1331\n",
      "Wii     1320\n",
      "X360    1262\n",
      "PSP     1209\n",
      "PS      1197\n",
      "PC       974\n",
      "XB       824\n",
      "GBA      822\n",
      "GC       556\n",
      "3DS      520\n",
      "PSV      430\n",
      "PS4      392\n",
      "N64      319\n",
      "XOne     247\n",
      "SNES     239\n",
      "SAT      173\n",
      "WiiU     147\n",
      "2600     133\n",
      "NES       98\n",
      "GB        98\n",
      "DC        52\n",
      "GEN       29\n",
      "NG        12\n",
      "SCD        6\n",
      "WS         6\n",
      "3DO        3\n",
      "TG16       2\n",
      "GG         1\n",
      "PCFX       1\n",
      "Name: count, dtype: int64\n"
     ]
    }
   ],
   "source": [
    "# Revisión de valores únicos\n",
    "print(df_games['name'].value_counts().sort_values(ascending=False))\n",
    "print()\n",
    "print(df_games['platform'].value_counts().sort_values(ascending=False))"
   ]
  },
  {
   "cell_type": "markdown",
   "metadata": {},
   "source": [
    "A primera instancia podemos notar que a pesar de que hayan nombres escritos mezclando Mayúsculas y Minúsculas, no parecieran haber duplicados ortográficos. Por lo que procederemos a buscar duplicados en las columnas `name`, `platform` y `year_of_release`."
   ]
  },
  {
   "cell_type": "code",
   "execution_count": 9,
   "metadata": {},
   "outputs": [
    {
     "name": "stdout",
     "output_type": "stream",
     "text": [
      "                name platform  year_of_release   genre  na_sales  eu_sales  \\\n",
      "14244            NaN      GEN           1993.0     NaN       0.0      0.00   \n",
      "16230  Madden NFL 13      PS3           2012.0  Sports       0.0      0.01   \n",
      "\n",
      "       jp_sales  other_sales  critic_score user_score rating  \n",
      "14244      0.03          0.0           NaN        NaN    NaN  \n",
      "16230      0.00          0.0          83.0        5.5      E  \n"
     ]
    }
   ],
   "source": [
    "# Búsqueda de duplicados en las columnas \"name\", \"platform\" y \"year_of_release\"\n",
    "print(df_games[df_games[['name','platform', 'year_of_release']].duplicated()])"
   ]
  },
  {
   "cell_type": "markdown",
   "metadata": {},
   "source": [
    "Notemos que solo tenemos dos duplicados, antes de tomar una decisión veamos cada caso y revisemos que información tiene el duplicado que pudiera complementar a la fila original."
   ]
  },
  {
   "cell_type": "markdown",
   "metadata": {},
   "source": [
    "#### Primer caso\n",
    "\n",
    "Para este primer caso, buscaremos las filas en las que el nombre del juego sea nulo."
   ]
  },
  {
   "cell_type": "code",
   "execution_count": 10,
   "metadata": {},
   "outputs": [
    {
     "name": "stdout",
     "output_type": "stream",
     "text": [
      "      name platform  year_of_release genre  na_sales  eu_sales  jp_sales  \\\n",
      "659    NaN      GEN           1993.0   NaN      1.78      0.53      0.00   \n",
      "14244  NaN      GEN           1993.0   NaN      0.00      0.00      0.03   \n",
      "\n",
      "       other_sales  critic_score user_score rating  \n",
      "659           0.08           NaN        NaN    NaN  \n",
      "14244         0.00           NaN        NaN    NaN  \n"
     ]
    }
   ],
   "source": [
    "# Buscar filas con nombres nulos\n",
    "print(df_games[df_games['name'].isna()])"
   ]
  },
  {
   "cell_type": "markdown",
   "metadata": {},
   "source": [
    "Podemos notar que particularmente en este juego, hay mucha información que esta ausente, principalmente en las columnas de las criticas. Sin embargo las ventas que tuvo este juego desconocido tiene que ser considerada para futuras investigaciones por lo que sera necesario sumar las ventas recabadas en Japón de la fila duplicada a la fila original para poder completar la información.  "
   ]
  },
  {
   "cell_type": "markdown",
   "metadata": {},
   "source": [
    "#### Segundo caso \n",
    "\n",
    "Para este caso buscaremos todas las coincidencias con el el juego \"Madden NFL 13\" particularmente de la plataforma \"PS3\"."
   ]
  },
  {
   "cell_type": "code",
   "execution_count": 11,
   "metadata": {},
   "outputs": [
    {
     "name": "stdout",
     "output_type": "stream",
     "text": [
      "                name platform  year_of_release   genre  na_sales  eu_sales  \\\n",
      "604    Madden NFL 13      PS3           2012.0  Sports      2.11      0.22   \n",
      "16230  Madden NFL 13      PS3           2012.0  Sports      0.00      0.01   \n",
      "\n",
      "       jp_sales  other_sales  critic_score user_score rating  \n",
      "604         0.0         0.23          83.0        5.5      E  \n",
      "16230       0.0         0.00          83.0        5.5      E  \n"
     ]
    }
   ],
   "source": [
    "# Buscando filas con nombres \"Madden NFL 13\" con plataforma \"PS3\"\n",
    "print(df_games[(df_games['name'] == 'Madden NFL 13') & (df_games['platform'] == 'PS3')])"
   ]
  },
  {
   "cell_type": "markdown",
   "metadata": {},
   "source": [
    "Podemos notar que, evidentemente, ambas filas son idénticas sin embargo la información que tenemos que complementar a la fila original vendría siendo en la columna `eu_sales`, por lo que se sumaran las ventas y se unificaran ambas filas.  "
   ]
  },
  {
   "cell_type": "markdown",
   "metadata": {},
   "source": [
    "#### Solución de duplicados\n",
    "\n",
    "Como ya hemos aclarado, para resolver el problema de duplicados se sumaran particularmente las ventas de cada juego para unificar las filas duplicadas."
   ]
  },
  {
   "cell_type": "code",
   "execution_count": 12,
   "metadata": {},
   "outputs": [
    {
     "name": "stdout",
     "output_type": "stream",
     "text": [
      "Las ventas totales del juego desconocido es:  0.03\n",
      "Las ventas totales del juego Madden NFL 13 es:  0.23\n"
     ]
    }
   ],
   "source": [
    "# Sumamos las ventas de Japón del Primer caso\n",
    "unknown_jp_sales = df_games[df_games['name'].isna()]['jp_sales'].sum()\n",
    "print('Las ventas totales del juego desconocido es: ', unknown_jp_sales )\n",
    "\n",
    "# Sumamos las ventas de Europa del Segundo caso\n",
    "madden_eu_sales = df_games[(df_games['name'] == 'Madden NFL 13') & (df_games['platform'] == 'PS3')]['eu_sales'].sum()\n",
    "print('Las ventas totales del juego Madden NFL 13 es: ', madden_eu_sales)\n"
   ]
  },
  {
   "cell_type": "markdown",
   "metadata": {},
   "source": [
    "Una vez calculados los valores del as ventas respectivamente de cada caso vamos a actualizar la información de las ventas en las filas originales."
   ]
  },
  {
   "cell_type": "code",
   "execution_count": 13,
   "metadata": {},
   "outputs": [
    {
     "name": "stdout",
     "output_type": "stream",
     "text": [
      "      name platform  year_of_release genre  na_sales  eu_sales  jp_sales  \\\n",
      "659    NaN      GEN           1993.0   NaN      1.78      0.53      0.03   \n",
      "14244  NaN      GEN           1993.0   NaN      0.00      0.00      0.03   \n",
      "\n",
      "       other_sales  critic_score user_score rating  \n",
      "659           0.08           NaN        NaN    NaN  \n",
      "14244         0.00           NaN        NaN    NaN  \n",
      "\n",
      "                name platform  year_of_release   genre  na_sales  eu_sales  \\\n",
      "604    Madden NFL 13      PS3           2012.0  Sports      2.11      0.23   \n",
      "16230  Madden NFL 13      PS3           2012.0  Sports      0.00      0.01   \n",
      "\n",
      "       jp_sales  other_sales  critic_score user_score rating  \n",
      "604         0.0         0.23          83.0        5.5      E  \n",
      "16230       0.0         0.00          83.0        5.5      E  \n"
     ]
    }
   ],
   "source": [
    "# Actualizamos ventas de Japón en la fila original del Primer caso\n",
    "df_games.loc[659, 'jp_sales'] = unknown_jp_sales\n",
    "\n",
    "# Actualizamos las ventad de Europa en la fila original del Segundo caso\n",
    "df_games.loc[604, 'eu_sales'] = madden_eu_sales\n",
    "\n",
    "# Corroboramos la actualización de datos\n",
    "print(df_games[df_games['name'].isna()])\n",
    "print()\n",
    "print(df_games[(df_games['name'] == 'Madden NFL 13') & (df_games['platform'] == 'PS3')])"
   ]
  },
  {
   "cell_type": "markdown",
   "metadata": {},
   "source": [
    "Una vez corroborado que los datos estén actualizados podemos desechar los duplicados."
   ]
  },
  {
   "cell_type": "code",
   "execution_count": 14,
   "metadata": {},
   "outputs": [
    {
     "name": "stdout",
     "output_type": "stream",
     "text": [
      "Empty DataFrame\n",
      "Columns: [name, platform, year_of_release, genre, na_sales, eu_sales, jp_sales, other_sales, critic_score, user_score, rating]\n",
      "Index: []\n"
     ]
    }
   ],
   "source": [
    "# Desechando duplicados\n",
    "df_games = df_games.drop_duplicates(subset=['name','platform','year_of_release']).reset_index(drop=True)\n",
    "\n",
    "# Corroboramos el resultado\n",
    "print(df_games[df_games[['name', 'platform', 'year_of_release']].duplicated()])"
   ]
  },
  {
   "cell_type": "markdown",
   "metadata": {},
   "source": [
    "Una vez solucionado el problema de los valores ausentes, podemos continuar con el problema datos ausentes. "
   ]
  },
  {
   "cell_type": "markdown",
   "metadata": {},
   "source": [
    "### Gestión de datos ausentes y tipos de datos\n",
    "\n",
    "Como vimos en la primera sección, encontramos algunas columnas que tienen datos ausentes. Esas columnas son: \n",
    "* `name`\n",
    "* `year_of_release`\n",
    "* `genre`\n",
    "* `critic_score`\n",
    "* `user_score`\n",
    "* `rating`\n",
    "\n",
    "Adicional a esto podemos ver que algunos tipos de datos no coinciden con el tipo de dato de su columna, como lo son los casos: \n",
    "* `year_of_release`\n",
    "* `critic_score`\n",
    "* `user_score`\n",
    "\n",
    "Conforme vayamos corrigiendo los datos nulos, también cambiaremos los tipos de datos de las columnas con este problema. "
   ]
  },
  {
   "cell_type": "markdown",
   "metadata": {},
   "source": [
    "#### Caso \"name\"\n",
    "\n",
    "Pudimos ver con anterioridad que en la columna \"name\" solo hay un valor nulo. Analizando mas a profundidad este caso, podemos eliminar sin problema, pues la escasa información que contiene no representa un gran impacto en la investigación, asi que pudiéramos prescindir de ella.  "
   ]
  },
  {
   "cell_type": "code",
   "execution_count": 15,
   "metadata": {},
   "outputs": [
    {
     "name": "stdout",
     "output_type": "stream",
     "text": [
      "    name platform  year_of_release genre  na_sales  eu_sales  jp_sales  \\\n",
      "659  NaN      GEN           1993.0   NaN      1.78      0.53      0.03   \n",
      "\n",
      "     other_sales  critic_score user_score rating  \n",
      "659         0.08           NaN        NaN    NaN  \n",
      "Empty DataFrame\n",
      "Columns: [name, platform, year_of_release, genre, na_sales, eu_sales, jp_sales, other_sales, critic_score, user_score, rating]\n",
      "Index: []\n"
     ]
    }
   ],
   "source": [
    "# Mostramos las filas que contengan valores nulos en la columna \"name\"\n",
    "print(df_games[df_games['name'].isna()])\n",
    "\n",
    "# Desechamos valores ausentes en la columna \"name\"\n",
    "df_games = df_games.dropna(subset='name')\n",
    "\n",
    "# Corroboramos que se hayan desechado las filas con datos nulos\n",
    "print(df_games[df_games['name'].isna()])"
   ]
  },
  {
   "cell_type": "markdown",
   "metadata": {},
   "source": [
    "#### Caso \"year_of_release\"\n",
    "\n",
    "Primeramente veremos la cantidad de valores ausentes que tenemos en la columna."
   ]
  },
  {
   "cell_type": "code",
   "execution_count": 16,
   "metadata": {},
   "outputs": [
    {
     "name": "stdout",
     "output_type": "stream",
     "text": [
      "                                    name platform  year_of_release  \\\n",
      "183                      Madden NFL 2004      PS2              NaN   \n",
      "377                     FIFA Soccer 2004      PS2              NaN   \n",
      "456           LEGO Batman: The Videogame      Wii              NaN   \n",
      "475           wwe Smackdown vs. Raw 2006      PS2              NaN   \n",
      "609                       Space Invaders     2600              NaN   \n",
      "...                                  ...      ...              ...   \n",
      "16371  PDC World Championship Darts 2008      PSP              NaN   \n",
      "16403                      Freaky Flyers       GC              NaN   \n",
      "16446                          Inversion       PC              NaN   \n",
      "16456        Hakuouki: Shinsengumi Kitan      PS3              NaN   \n",
      "16520                       Virtua Quest       GC              NaN   \n",
      "\n",
      "              genre  na_sales  eu_sales  jp_sales  other_sales  critic_score  \\\n",
      "183          Sports      4.26      0.26      0.01         0.71          94.0   \n",
      "377          Sports      0.59      2.36      0.04         0.51          84.0   \n",
      "456          Action      1.80      0.97      0.00         0.29          74.0   \n",
      "475        Fighting      1.57      1.02      0.00         0.41           NaN   \n",
      "609         Shooter      2.36      0.14      0.00         0.03           NaN   \n",
      "...             ...       ...       ...       ...          ...           ...   \n",
      "16371        Sports      0.01      0.00      0.00         0.00          43.0   \n",
      "16403        Racing      0.01      0.00      0.00         0.00          69.0   \n",
      "16446       Shooter      0.01      0.00      0.00         0.00          59.0   \n",
      "16456     Adventure      0.01      0.00      0.00         0.00           NaN   \n",
      "16520  Role-Playing      0.01      0.00      0.00         0.00          55.0   \n",
      "\n",
      "      user_score rating  \n",
      "183          8.5      E  \n",
      "377          6.4      E  \n",
      "456          7.9   E10+  \n",
      "475          NaN    NaN  \n",
      "609          NaN    NaN  \n",
      "...          ...    ...  \n",
      "16371        tbd   E10+  \n",
      "16403        6.5      T  \n",
      "16446        6.7      M  \n",
      "16456        NaN    NaN  \n",
      "16520        5.5      T  \n",
      "\n",
      "[269 rows x 11 columns]\n"
     ]
    }
   ],
   "source": [
    "# Imprimimos los valores ausentes de la columna \"year_of_release\"\n",
    "print(df_games[df_games['year_of_release'].isna()])"
   ]
  },
  {
   "cell_type": "markdown",
   "metadata": {},
   "source": [
    "Como podemos ver, los valores ausentes son mínimos comparados con la magnitud total del DataFrame. Una forma para poder rellenar los espacios ausentes de esta columna es con la media o mediana, la forma en como podemos determinar esto es revisando los valores y revisar que valor se adapta mas a el DataSet."
   ]
  },
  {
   "cell_type": "code",
   "execution_count": 17,
   "metadata": {},
   "outputs": [
    {
     "data": {
      "image/png": "[encoded data removed]",
      "text/plain": [
       "<Figure size 640x480 with 1 Axes>"
      ]
     },
     "metadata": {},
     "output_type": "display_data"
    },
    {
     "name": "stdout",
     "output_type": "stream",
     "text": [
      "El año promedio de lanzamiento de juegos es:  2006.4859210606337\n",
      "El año intermedio entre todos los lanzamientos es:  2007.0\n"
     ]
    }
   ],
   "source": [
    "# Graficamos los años de lanzamientos de los juegos\n",
    "df_games['year_of_release'].plot(kind='hist', grid=True)\n",
    "plt.show()\n",
    "\n",
    "# Calculamos la media de la columna \"year_of_release\"\n",
    "year_mean = df_games['year_of_release'].mean()\n",
    "\n",
    "# Calculamos la mediana de la columna \"year_of_release\"\n",
    "year_median = df_games['year_of_release'].median()\n",
    "\n",
    "# Mostramos la media y mediana\n",
    "print(\"El año promedio de lanzamiento de juegos es: \", year_mean)\n",
    "print(\"El año intermedio entre todos los lanzamientos es: \", year_median)"
   ]
  },
  {
   "cell_type": "markdown",
   "metadata": {},
   "source": [
    "Haciendo un pequeño análisis podemos ver que la mayoría de los títulos se encuentran en los años 2000 hasta el 2010 aproximadamente, calculando la media podemos ver que no varia mucho de la mediana, lo cual nos indica que no hay valores atípicos, aun asi tomaremos el valor de la mediana \"2007\". Usaremos este valor para completar la información de la columna `year_of_release` de esta forma estos valores no afectaran mucho los resultados cuando lleguemos al análisis."
   ]
  },
  {
   "cell_type": "code",
   "execution_count": 18,
   "metadata": {},
   "outputs": [
    {
     "name": "stdout",
     "output_type": "stream",
     "text": [
      "Empty DataFrame\n",
      "Columns: [name, platform, year_of_release, genre, na_sales, eu_sales, jp_sales, other_sales, critic_score, user_score, rating]\n",
      "Index: []\n"
     ]
    }
   ],
   "source": [
    "# Llenamos los valores ausentes de la columna \"year_of_release\" con la mediana de esa misma columna\n",
    "df_games['year_of_release'] = df_games['year_of_release'].fillna(year_median)\n",
    "\n",
    "# Imprimimos en busca de valores nulos\n",
    "print(df_games[df_games['year_of_release'].isna()])"
   ]
  },
  {
   "cell_type": "markdown",
   "metadata": {},
   "source": [
    "Corroborando que no hay valores nulos en la columna \"year_of_release\" podemos avanzar a la siguiente columna.\n",
    "\n",
    "A continuación cambiaremos el tipo de dato de esta columna a tipo entero para facilitar los análisis mas adelante. \n",
    "\n",
    "Nota: No se cambio el tipo de dato de esta columna a `datetime` pues la columna no cuenta con información adicional sobre la fecha de lanzamiento por lo que se opto por darle un tipo de dato entero a la columna `year_of_release`."
   ]
  },
  {
   "cell_type": "code",
   "execution_count": 19,
   "metadata": {},
   "outputs": [
    {
     "data": {
      "text/plain": [
       "True"
      ]
     },
     "execution_count": 19,
     "metadata": {},
     "output_type": "execute_result"
    }
   ],
   "source": [
    "# Corroborando que sea seguro cambiar de tipo de datos la columna \"year_of_release\" a tipo entero\n",
    "np.array_equal(df_games['year_of_release'], df_games['year_of_release'].astype('int'))"
   ]
  },
  {
   "cell_type": "markdown",
   "metadata": {},
   "source": [
    "Corroborando que es seguro cambiar de tipo de dato a entero procedemos a hacer el procedimiento."
   ]
  },
  {
   "cell_type": "code",
   "execution_count": 20,
   "metadata": {},
   "outputs": [
    {
     "name": "stdout",
     "output_type": "stream",
     "text": [
      "int32\n"
     ]
    }
   ],
   "source": [
    "# Cambio de tipo de dato a entero de la columna \"year_of_release\"\n",
    "df_games['year_of_release'] = df_games['year_of_release'].astype('int')\n",
    "\n",
    "# Corroboramos el cambio de tipo de dato\n",
    "print(df_games['year_of_release'].dtypes)"
   ]
  },
  {
   "cell_type": "markdown",
   "metadata": {},
   "source": [
    "#### Caso \"genre\"\n",
    "\n",
    "Primeramente antes de continuar con esta columna, volvemos a corroborar la información del DataFrame para comprobar los cambios que ha tenido."
   ]
  },
  {
   "cell_type": "code",
   "execution_count": 21,
   "metadata": {},
   "outputs": [
    {
     "name": "stdout",
     "output_type": "stream",
     "text": [
      "<class 'pandas.core.frame.DataFrame'>\n",
      "Index: 16712 entries, 0 to 16712\n",
      "Data columns (total 11 columns):\n",
      " #   Column           Non-Null Count  Dtype  \n",
      "---  ------           --------------  -----  \n",
      " 0   name             16712 non-null  object \n",
      " 1   platform         16712 non-null  object \n",
      " 2   year_of_release  16712 non-null  int32  \n",
      " 3   genre            16712 non-null  object \n",
      " 4   na_sales         16712 non-null  float64\n",
      " 5   eu_sales         16712 non-null  float64\n",
      " 6   jp_sales         16712 non-null  float64\n",
      " 7   other_sales      16712 non-null  float64\n",
      " 8   critic_score     8136 non-null   float64\n",
      " 9   user_score       10013 non-null  object \n",
      " 10  rating           9948 non-null   object \n",
      "dtypes: float64(5), int32(1), object(5)\n",
      "memory usage: 1.5+ MB\n"
     ]
    }
   ],
   "source": [
    "# Corroboramos los cambios hasta el momento en la información del DataFrame\n",
    "df_games.info()"
   ]
  },
  {
   "cell_type": "markdown",
   "metadata": {},
   "source": [
    "Como podemos ver, La columna \"genre\" ya no cuenta con valores ausentes, por lo que podemos proseguir con la siguiente columna. "
   ]
  },
  {
   "cell_type": "markdown",
   "metadata": {},
   "source": [
    "#### Caso \"critic_score\"\n",
    "\n",
    "Como podemos ver anteriormente, esta columna presenta un problema muy importante, pues los valores ausentes de esta columna es mas del 50% del contenido del DataSet (8576 datos nulos). Para saber que hacer con este volumen de datos primeramente visualicemos la información que tenemos."
   ]
  },
  {
   "cell_type": "code",
   "execution_count": 22,
   "metadata": {},
   "outputs": [
    {
     "name": "stdout",
     "output_type": "stream",
     "text": [
      "La media de la columna 'critic_score' es:  68.96595378564405\n",
      "\n",
      "La mediana de la columna 'critic_score' es:  71.0\n"
     ]
    },
    {
     "data": {
      "image/png": "[encoded data removed]",
      "text/plain": [
       "<Figure size 640x480 with 1 Axes>"
      ]
     },
     "metadata": {},
     "output_type": "display_data"
    }
   ],
   "source": [
    "# Representamos la información de la columna \"critic_score\" en un diagrama de caja y bigotes para analizar el comportamiento\n",
    "sns.boxplot(df_games['critic_score'])\n",
    "\n",
    "# Calculamos la media y mediana de la columna \"critic_score\"\n",
    "critic_mean = df_games['critic_score'].mean()\n",
    "critic_median = df_games['critic_score'].median()\n",
    "# Mostramos la media y mediana de la columna \"critic_score\"\n",
    "print(\"La media de la columna 'critic_score' es: \", critic_mean)\n",
    "print()\n",
    "print(\"La mediana de la columna 'critic_score' es: \", critic_median)"
   ]
  },
  {
   "cell_type": "markdown",
   "metadata": {},
   "source": [
    "Como podemos ver, la información de esta columna cuenta con varios valores atípicos por debajo de 35 aproximadamente, por lo que se utilizara la mediana para llenar los valores nulos de esta columna."
   ]
  },
  {
   "cell_type": "code",
   "execution_count": 23,
   "metadata": {},
   "outputs": [
    {
     "name": "stdout",
     "output_type": "stream",
     "text": [
      "<class 'pandas.core.frame.DataFrame'>\n",
      "Index: 16712 entries, 0 to 16712\n",
      "Data columns (total 11 columns):\n",
      " #   Column           Non-Null Count  Dtype  \n",
      "---  ------           --------------  -----  \n",
      " 0   name             16712 non-null  object \n",
      " 1   platform         16712 non-null  object \n",
      " 2   year_of_release  16712 non-null  int32  \n",
      " 3   genre            16712 non-null  object \n",
      " 4   na_sales         16712 non-null  float64\n",
      " 5   eu_sales         16712 non-null  float64\n",
      " 6   jp_sales         16712 non-null  float64\n",
      " 7   other_sales      16712 non-null  float64\n",
      " 8   critic_score     16712 non-null  float64\n",
      " 9   user_score       10013 non-null  object \n",
      " 10  rating           9948 non-null   object \n",
      "dtypes: float64(5), int32(1), object(5)\n",
      "memory usage: 2.0+ MB\n"
     ]
    }
   ],
   "source": [
    "# Llenamos los valores nulos de la columna \"critic_score\" con el valor de la mediana de esa columna\n",
    "df_games['critic_score'] = df_games['critic_score'].fillna(critic_median)\n",
    "\n",
    "# Corroboramos que ya sean llenado los datos de esa columna\n",
    "df_games.info()"
   ]
  },
  {
   "cell_type": "markdown",
   "metadata": {},
   "source": [
    "Una vez resuelto el problema de datos nulos, procedemos a hacer el cambio de tipo de dato a tipo entero. Se decidió cambiar de tipo de dato a entero pues el rango escogido para esta columna no requiere de puntos decimales, por lo que asignarle un tipo de dato entero sera mas ideal para esta columna. "
   ]
  },
  {
   "cell_type": "code",
   "execution_count": 24,
   "metadata": {},
   "outputs": [
    {
     "data": {
      "text/plain": [
       "True"
      ]
     },
     "execution_count": 24,
     "metadata": {},
     "output_type": "execute_result"
    }
   ],
   "source": [
    "# Corroborando que se pueda cambiar la columna \"critic_score\" a tipo entero\n",
    "np.array_equal(df_games['critic_score'], df_games['critic_score'].astype('int'))"
   ]
  },
  {
   "cell_type": "markdown",
   "metadata": {},
   "source": [
    "Una vez corroborado que es seguro cambiar de tipo de dato a entero procedemos con el cambio."
   ]
  },
  {
   "cell_type": "code",
   "execution_count": 25,
   "metadata": {},
   "outputs": [
    {
     "name": "stdout",
     "output_type": "stream",
     "text": [
      "int32\n"
     ]
    }
   ],
   "source": [
    "# Cambiando el tipo de dato la columna \"critic_score\" a tipo entero\n",
    "df_games['critic_score'] = df_games['critic_score'].astype('int')\n",
    "\n",
    "# Corroborando el cambio de tipo de dato\n",
    "print(df_games['critic_score'].dtypes)"
   ]
  },
  {
   "cell_type": "markdown",
   "metadata": {},
   "source": [
    "#### Caso \"user_score\"\n",
    "\n",
    "Al igual que en el caso de \"critic_score\", se compararan los títulos de la misma categoría o mismo titulo de juego y se decidirá si se llenara los espacios ausentes con el promedio o media. Adicional a esto notaremos que habrán filas con el valor \"tbd\" (To Be Determined -> Por Ser Determinado) lo cual nos quiere decir que aun no se ha determinado una critica por el usuario. \n",
    "\n",
    "Antes de tomar una decisión, revisemos los valores ausentes de esta columna y las filas que contengan el valor \"tbd\"."
   ]
  },
  {
   "cell_type": "code",
   "execution_count": 26,
   "metadata": {},
   "outputs": [
    {
     "name": "stdout",
     "output_type": "stream",
     "text": [
      "                                name platform  year_of_release         genre  \\\n",
      "1                  Super Mario Bros.      NES             1985      Platform   \n",
      "4           Pokemon Red/Pokemon Blue       GB             1996  Role-Playing   \n",
      "5                             Tetris       GB             1989        Puzzle   \n",
      "9                          Duck Hunt      NES             1984       Shooter   \n",
      "10                        Nintendogs       DS             2005    Simulation   \n",
      "...                              ...      ...              ...           ...   \n",
      "16708  Samurai Warriors: Sanada Maru      PS3             2016        Action   \n",
      "16709               LMA Manager 2007     X360             2006        Sports   \n",
      "16710        Haitaka no Psychedelica      PSV             2016     Adventure   \n",
      "16711               Spirits & Spells      GBA             2003      Platform   \n",
      "16712            Winning Post 8 2016      PSV             2016    Simulation   \n",
      "\n",
      "       na_sales  eu_sales  jp_sales  other_sales  critic_score user_score  \\\n",
      "1         29.08      3.58      6.81         0.77            71        NaN   \n",
      "4         11.27      8.89     10.22         1.00            71        NaN   \n",
      "5         23.20      2.26      4.22         0.58            71        NaN   \n",
      "9         26.93      0.63      0.28         0.47            71        NaN   \n",
      "10         9.05     10.95      1.93         2.74            71        NaN   \n",
      "...         ...       ...       ...          ...           ...        ...   \n",
      "16708      0.00      0.00      0.01         0.00            71        NaN   \n",
      "16709      0.00      0.01      0.00         0.00            71        NaN   \n",
      "16710      0.00      0.00      0.01         0.00            71        NaN   \n",
      "16711      0.01      0.00      0.00         0.00            71        NaN   \n",
      "16712      0.00      0.00      0.01         0.00            71        NaN   \n",
      "\n",
      "      rating  \n",
      "1        NaN  \n",
      "4        NaN  \n",
      "5        NaN  \n",
      "9        NaN  \n",
      "10       NaN  \n",
      "...      ...  \n",
      "16708    NaN  \n",
      "16709    NaN  \n",
      "16710    NaN  \n",
      "16711    NaN  \n",
      "16712    NaN  \n",
      "\n",
      "[6699 rows x 11 columns]\n",
      "\n",
      "                                           name platform  year_of_release  \\\n",
      "119                               Zumba Fitness      Wii             2010   \n",
      "301              Namco Museum: 50th Anniversary      PS2             2005   \n",
      "520                             Zumba Fitness 2      Wii             2011   \n",
      "645                                uDraw Studio      Wii             2010   \n",
      "657    Frogger's Adventures: Temple of the Frog      GBA             2007   \n",
      "...                                         ...      ...              ...   \n",
      "16693                           Planet Monsters      GBA             2001   \n",
      "16695                          Bust-A-Move 3000       GC             2003   \n",
      "16696                          Mega Brain Boost       DS             2008   \n",
      "16702                                  Plushees       DS             2008   \n",
      "16704             Men in Black II: Alien Escape       GC             2003   \n",
      "\n",
      "            genre  na_sales  eu_sales  jp_sales  other_sales  critic_score  \\\n",
      "119        Sports      3.45      2.59       0.0         0.66            71   \n",
      "301          Misc      2.08      1.35       0.0         0.54            61   \n",
      "520        Sports      1.51      1.03       0.0         0.27            71   \n",
      "645          Misc      1.65      0.57       0.0         0.20            71   \n",
      "657     Adventure      2.15      0.18       0.0         0.07            73   \n",
      "...           ...       ...       ...       ...          ...           ...   \n",
      "16693      Action      0.01      0.00       0.0         0.00            67   \n",
      "16695      Puzzle      0.01      0.00       0.0         0.00            53   \n",
      "16696      Puzzle      0.01      0.00       0.0         0.00            48   \n",
      "16702  Simulation      0.01      0.00       0.0         0.00            71   \n",
      "16704     Shooter      0.01      0.00       0.0         0.00            71   \n",
      "\n",
      "      user_score rating  \n",
      "119          tbd      E  \n",
      "301          tbd   E10+  \n",
      "520          tbd      T  \n",
      "645          tbd      E  \n",
      "657          tbd      E  \n",
      "...          ...    ...  \n",
      "16693        tbd      E  \n",
      "16695        tbd      E  \n",
      "16696        tbd      E  \n",
      "16702        tbd      E  \n",
      "16704        tbd      T  \n",
      "\n",
      "[2424 rows x 11 columns]\n"
     ]
    }
   ],
   "source": [
    "# Revisando los valores nulos de la columna \"user_score\"\n",
    "print(df_games[df_games['user_score'].isna()])\n",
    "\n",
    "print()\n",
    "\n",
    "# Revisando los valores \"tbd\" de la columna \"user_score\"\n",
    "print(df_games[df_games['user_score'] == 'tbd'])"
   ]
  },
  {
   "cell_type": "markdown",
   "metadata": {},
   "source": [
    "En conjunto de estos datos representan mas de la mitad de los datos del DataSet (en conjunto suman 9123 filas). \n",
    "\n",
    "Para poder procesar esta columna, primeramente resolveremos los valores \"tbd\", tendremos que cambiarlos al valor 11, se escogió el valor 11 por que sabemos que es un valor fuera de la métrica, se hace esto para poder identificar estas filas mas adelante y que no interfieran en el calculo de mediana y media. Adicional a esto, rellenaremos los valores nulos con el valor 11 igualmente, de esta forma podemos aislarlos en el calculo de media y mediana. "
   ]
  },
  {
   "cell_type": "code",
   "execution_count": 27,
   "metadata": {},
   "outputs": [],
   "source": [
    "# Remplazando las filas que contengan \"tbd\" por el valor \"11\"\n",
    "df_games['user_score'] = df_games['user_score'].replace('tbd', '11.0')\n",
    "\n",
    "# Rellenamos los valores nulos con el valor \"11\"\n",
    "df_games['user_score'] = df_games['user_score'].fillna('11.0')"
   ]
  },
  {
   "cell_type": "markdown",
   "metadata": {},
   "source": [
    "Una vez remplazados y rellenados los datos con el valor 11, procedemos a cambiar de tipo de dato a la columna a tipo flotante."
   ]
  },
  {
   "cell_type": "code",
   "execution_count": 28,
   "metadata": {},
   "outputs": [
    {
     "name": "stdout",
     "output_type": "stream",
     "text": [
      "float64\n"
     ]
    }
   ],
   "source": [
    "# Cambiando de tipo de dato la columna \"user_score\" a tipo flotante\n",
    "df_games['user_score'] = pd.to_numeric(df_games['user_score'])\n",
    "\n",
    "# Corroborando el cambio de tipo de la columna \"user_score\"\n",
    "print(df_games['user_score'].dtypes)"
   ]
  },
  {
   "cell_type": "markdown",
   "metadata": {},
   "source": [
    "Una vez cambiado de tipo, podemos visualizar los datos menores a 11 en un diagrama de caja y bigotes, calcular la media y mediana y poder tomar una decisión."
   ]
  },
  {
   "cell_type": "code",
   "execution_count": 29,
   "metadata": {},
   "outputs": [
    {
     "name": "stdout",
     "output_type": "stream",
     "text": [
      "La media de la columna 'user_score' es:  7.12526024509158\n",
      "\n",
      "La mediana de la columna 'user_score' es:  7.5\n"
     ]
    },
    {
     "data": {
      "image/png": "[encoded data removed]",
      "text/plain": [
       "<Figure size 640x480 with 1 Axes>"
      ]
     },
     "metadata": {},
     "output_type": "display_data"
    }
   ],
   "source": [
    "# Representamos la información de la columna \"user_score\" en un diagrama de caja y bigotes\n",
    "sns.boxplot(df_games[df_games['user_score'] < 11]['user_score'])\n",
    "\n",
    "# Calculamos la media y mediana de la columna \"user_score\"\n",
    "user_mean = df_games[df_games['user_score'] < 11]['user_score'].mean()\n",
    "user_median = df_games[df_games['user_score'] < 11]['user_score'].median()\n",
    "\n",
    "# Mostramos la media y mediana de la columna \"user_score\"\n",
    "print(\"La media de la columna 'user_score' es: \", user_mean)\n",
    "print()\n",
    "print(\"La mediana de la columna 'user_score' es: \", user_median)\n"
   ]
  },
  {
   "cell_type": "markdown",
   "metadata": {},
   "source": [
    "Como podemos apreciar en el diagrama, vemos varios valores atípicos por debajo de 4 por lo que se decidirá usar el valor de la mediana para rellenar los datos ausentes de la columna \"user_score\"."
   ]
  },
  {
   "cell_type": "code",
   "execution_count": 30,
   "metadata": {},
   "outputs": [
    {
     "name": "stdout",
     "output_type": "stream",
     "text": [
      "<class 'pandas.core.frame.DataFrame'>\n",
      "Index: 16712 entries, 0 to 16712\n",
      "Data columns (total 11 columns):\n",
      " #   Column           Non-Null Count  Dtype  \n",
      "---  ------           --------------  -----  \n",
      " 0   name             16712 non-null  object \n",
      " 1   platform         16712 non-null  object \n",
      " 2   year_of_release  16712 non-null  int32  \n",
      " 3   genre            16712 non-null  object \n",
      " 4   na_sales         16712 non-null  float64\n",
      " 5   eu_sales         16712 non-null  float64\n",
      " 6   jp_sales         16712 non-null  float64\n",
      " 7   other_sales      16712 non-null  float64\n",
      " 8   critic_score     16712 non-null  int32  \n",
      " 9   user_score       16712 non-null  float64\n",
      " 10  rating           9948 non-null   object \n",
      "dtypes: float64(5), int32(2), object(4)\n",
      "memory usage: 1.9+ MB\n"
     ]
    }
   ],
   "source": [
    "# Cambiando los datos de valor 11 por el valor de la mediana de la columna \"user_score\"\n",
    "df_games['user_score'] = df_games['user_score'].replace(11, user_median)\n",
    "\n",
    "# Corroboramos la ausencia de valores nulos en la columna \"user_score\"\n",
    "df_games.info()"
   ]
  },
  {
   "cell_type": "markdown",
   "metadata": {},
   "source": [
    "#### Caso \"rating\"\n",
    "\n",
    "Para este caso, como en los demás primeramente veremos primeramente los valores únicos que tiene la columna y los valores nulos."
   ]
  },
  {
   "cell_type": "code",
   "execution_count": 31,
   "metadata": {},
   "outputs": [
    {
     "name": "stdout",
     "output_type": "stream",
     "text": [
      "rating\n",
      "E       3989\n",
      "T       2961\n",
      "M       1563\n",
      "E10+    1420\n",
      "EC         8\n",
      "K-A        3\n",
      "RP         3\n",
      "AO         1\n",
      "Name: count, dtype: int64\n",
      "                                name platform  year_of_release         genre  \\\n",
      "1                  Super Mario Bros.      NES             1985      Platform   \n",
      "4           Pokemon Red/Pokemon Blue       GB             1996  Role-Playing   \n",
      "5                             Tetris       GB             1989        Puzzle   \n",
      "9                          Duck Hunt      NES             1984       Shooter   \n",
      "10                        Nintendogs       DS             2005    Simulation   \n",
      "...                              ...      ...              ...           ...   \n",
      "16708  Samurai Warriors: Sanada Maru      PS3             2016        Action   \n",
      "16709               LMA Manager 2007     X360             2006        Sports   \n",
      "16710        Haitaka no Psychedelica      PSV             2016     Adventure   \n",
      "16711               Spirits & Spells      GBA             2003      Platform   \n",
      "16712            Winning Post 8 2016      PSV             2016    Simulation   \n",
      "\n",
      "       na_sales  eu_sales  jp_sales  other_sales  critic_score  user_score  \\\n",
      "1         29.08      3.58      6.81         0.77            71         7.5   \n",
      "4         11.27      8.89     10.22         1.00            71         7.5   \n",
      "5         23.20      2.26      4.22         0.58            71         7.5   \n",
      "9         26.93      0.63      0.28         0.47            71         7.5   \n",
      "10         9.05     10.95      1.93         2.74            71         7.5   \n",
      "...         ...       ...       ...          ...           ...         ...   \n",
      "16708      0.00      0.00      0.01         0.00            71         7.5   \n",
      "16709      0.00      0.01      0.00         0.00            71         7.5   \n",
      "16710      0.00      0.00      0.01         0.00            71         7.5   \n",
      "16711      0.01      0.00      0.00         0.00            71         7.5   \n",
      "16712      0.00      0.00      0.01         0.00            71         7.5   \n",
      "\n",
      "      rating  \n",
      "1        NaN  \n",
      "4        NaN  \n",
      "5        NaN  \n",
      "9        NaN  \n",
      "10       NaN  \n",
      "...      ...  \n",
      "16708    NaN  \n",
      "16709    NaN  \n",
      "16710    NaN  \n",
      "16711    NaN  \n",
      "16712    NaN  \n",
      "\n",
      "[6764 rows x 11 columns]\n"
     ]
    }
   ],
   "source": [
    "# Revisando los valores únicos de la la columna \"rating\"\n",
    "print(df_games['rating'].value_counts())\n",
    "\n",
    "# Revisando los valores ausentes de la columna \"rating\"\n",
    "print(df_games[df_games['rating'].isna()])"
   ]
  },
  {
   "cell_type": "markdown",
   "metadata": {},
   "source": [
    "Como podemos ver, los títulos dentro de este DataSet, tienen una mayor inclinación a que sean juegos de tipo \"E\" sin embargo considerando que los datos nulos de esta columna representa aproximadamente el 40% (6764 filas con datos nulos), no podríamos asumir que el resto de los datos sean juegos tipo \"E\" por lo que estos datos los marcaremos como \"Unknown\". "
   ]
  },
  {
   "cell_type": "code",
   "execution_count": 32,
   "metadata": {},
   "outputs": [
    {
     "name": "stdout",
     "output_type": "stream",
     "text": [
      "<class 'pandas.core.frame.DataFrame'>\n",
      "Index: 16712 entries, 0 to 16712\n",
      "Data columns (total 11 columns):\n",
      " #   Column           Non-Null Count  Dtype  \n",
      "---  ------           --------------  -----  \n",
      " 0   name             16712 non-null  object \n",
      " 1   platform         16712 non-null  object \n",
      " 2   year_of_release  16712 non-null  int32  \n",
      " 3   genre            16712 non-null  object \n",
      " 4   na_sales         16712 non-null  float64\n",
      " 5   eu_sales         16712 non-null  float64\n",
      " 6   jp_sales         16712 non-null  float64\n",
      " 7   other_sales      16712 non-null  float64\n",
      " 8   critic_score     16712 non-null  int32  \n",
      " 9   user_score       16712 non-null  float64\n",
      " 10  rating           16712 non-null  object \n",
      "dtypes: float64(5), int32(2), object(4)\n",
      "memory usage: 1.9+ MB\n"
     ]
    }
   ],
   "source": [
    "# Rellenando los espacios vacíos por la palabra \"Unknown\"\n",
    "df_games['rating'] = df_games['rating'].fillna('Unknown')\n",
    "\n",
    "# Corroborando que ya no hay datos nulos en el DataSet\n",
    "df_games.info()"
   ]
  },
  {
   "cell_type": "markdown",
   "metadata": {},
   "source": [
    "Corroborando que todos los problemas con los datos esta resuelto podemos proceder con el análisis de datos.\n",
    "___\n"
   ]
  },
  {
   "cell_type": "markdown",
   "metadata": {},
   "source": [
    "## Paso 3: Análisis de Datos: \n",
    "\n",
    "Una vez preparados los datos podemos proceder al análisis, para ello se plantearon los siguientes puntos a resolver: \n",
    "\n",
    "* Cuantos juegos fueron lanzados en diferentes años.\n",
    "* El comportamiento de las ventas de videojuegos en distintas plataformas.\n",
    "* Identificar las plataformas lideres en ventas\n",
    "* Revisión de como de las reseñas de usuarios y profesionales afectan las ventas de una plataforma popular. \n",
    "* Distribución general de los juegos por género.\n",
    "\n",
    "Aclarado esto empezaremos analizando la cantidad de juegos lanzados en diferentes años."
   ]
  },
  {
   "cell_type": "code",
   "execution_count": 33,
   "metadata": {},
   "outputs": [
    {
     "data": {
      "text/html": [
       "<div>\n",
       "<style scoped>\n",
       "    .dataframe tbody tr th:only-of-type {\n",
       "        vertical-align: middle;\n",
       "    }\n",
       "\n",
       "    .dataframe tbody tr th {\n",
       "        vertical-align: top;\n",
       "    }\n",
       "\n",
       "    .dataframe thead th {\n",
       "        text-align: right;\n",
       "    }\n",
       "</style>\n",
       "<table border=\"1\" class=\"dataframe\">\n",
       "  <thead>\n",
       "    <tr style=\"text-align: right;\">\n",
       "      <th></th>\n",
       "      <th>year_of_release</th>\n",
       "      <th>name</th>\n",
       "    </tr>\n",
       "  </thead>\n",
       "  <tbody>\n",
       "    <tr>\n",
       "      <th>0</th>\n",
       "      <td>2007</td>\n",
       "      <td>1466</td>\n",
       "    </tr>\n",
       "    <tr>\n",
       "      <th>1</th>\n",
       "      <td>2008</td>\n",
       "      <td>1427</td>\n",
       "    </tr>\n",
       "    <tr>\n",
       "      <th>2</th>\n",
       "      <td>2009</td>\n",
       "      <td>1426</td>\n",
       "    </tr>\n",
       "    <tr>\n",
       "      <th>3</th>\n",
       "      <td>2010</td>\n",
       "      <td>1255</td>\n",
       "    </tr>\n",
       "    <tr>\n",
       "      <th>4</th>\n",
       "      <td>2011</td>\n",
       "      <td>1136</td>\n",
       "    </tr>\n",
       "    <tr>\n",
       "      <th>5</th>\n",
       "      <td>2006</td>\n",
       "      <td>1006</td>\n",
       "    </tr>\n",
       "    <tr>\n",
       "      <th>6</th>\n",
       "      <td>2005</td>\n",
       "      <td>939</td>\n",
       "    </tr>\n",
       "    <tr>\n",
       "      <th>7</th>\n",
       "      <td>2002</td>\n",
       "      <td>829</td>\n",
       "    </tr>\n",
       "    <tr>\n",
       "      <th>8</th>\n",
       "      <td>2003</td>\n",
       "      <td>775</td>\n",
       "    </tr>\n",
       "    <tr>\n",
       "      <th>9</th>\n",
       "      <td>2004</td>\n",
       "      <td>762</td>\n",
       "    </tr>\n",
       "    <tr>\n",
       "      <th>10</th>\n",
       "      <td>2012</td>\n",
       "      <td>652</td>\n",
       "    </tr>\n",
       "    <tr>\n",
       "      <th>11</th>\n",
       "      <td>2015</td>\n",
       "      <td>606</td>\n",
       "    </tr>\n",
       "    <tr>\n",
       "      <th>12</th>\n",
       "      <td>2014</td>\n",
       "      <td>581</td>\n",
       "    </tr>\n",
       "    <tr>\n",
       "      <th>13</th>\n",
       "      <td>2013</td>\n",
       "      <td>544</td>\n",
       "    </tr>\n",
       "    <tr>\n",
       "      <th>14</th>\n",
       "      <td>2016</td>\n",
       "      <td>502</td>\n",
       "    </tr>\n",
       "    <tr>\n",
       "      <th>15</th>\n",
       "      <td>2001</td>\n",
       "      <td>482</td>\n",
       "    </tr>\n",
       "    <tr>\n",
       "      <th>16</th>\n",
       "      <td>1998</td>\n",
       "      <td>379</td>\n",
       "    </tr>\n",
       "    <tr>\n",
       "      <th>17</th>\n",
       "      <td>2000</td>\n",
       "      <td>350</td>\n",
       "    </tr>\n",
       "    <tr>\n",
       "      <th>18</th>\n",
       "      <td>1999</td>\n",
       "      <td>338</td>\n",
       "    </tr>\n",
       "    <tr>\n",
       "      <th>19</th>\n",
       "      <td>1997</td>\n",
       "      <td>289</td>\n",
       "    </tr>\n",
       "    <tr>\n",
       "      <th>20</th>\n",
       "      <td>1996</td>\n",
       "      <td>263</td>\n",
       "    </tr>\n",
       "    <tr>\n",
       "      <th>21</th>\n",
       "      <td>1995</td>\n",
       "      <td>219</td>\n",
       "    </tr>\n",
       "    <tr>\n",
       "      <th>22</th>\n",
       "      <td>1994</td>\n",
       "      <td>121</td>\n",
       "    </tr>\n",
       "    <tr>\n",
       "      <th>23</th>\n",
       "      <td>1993</td>\n",
       "      <td>60</td>\n",
       "    </tr>\n",
       "    <tr>\n",
       "      <th>24</th>\n",
       "      <td>1981</td>\n",
       "      <td>46</td>\n",
       "    </tr>\n",
       "    <tr>\n",
       "      <th>25</th>\n",
       "      <td>1992</td>\n",
       "      <td>43</td>\n",
       "    </tr>\n",
       "    <tr>\n",
       "      <th>26</th>\n",
       "      <td>1991</td>\n",
       "      <td>41</td>\n",
       "    </tr>\n",
       "    <tr>\n",
       "      <th>27</th>\n",
       "      <td>1982</td>\n",
       "      <td>36</td>\n",
       "    </tr>\n",
       "    <tr>\n",
       "      <th>28</th>\n",
       "      <td>1986</td>\n",
       "      <td>21</td>\n",
       "    </tr>\n",
       "    <tr>\n",
       "      <th>29</th>\n",
       "      <td>1989</td>\n",
       "      <td>17</td>\n",
       "    </tr>\n",
       "    <tr>\n",
       "      <th>30</th>\n",
       "      <td>1983</td>\n",
       "      <td>17</td>\n",
       "    </tr>\n",
       "    <tr>\n",
       "      <th>31</th>\n",
       "      <td>1990</td>\n",
       "      <td>16</td>\n",
       "    </tr>\n",
       "    <tr>\n",
       "      <th>32</th>\n",
       "      <td>1987</td>\n",
       "      <td>16</td>\n",
       "    </tr>\n",
       "    <tr>\n",
       "      <th>33</th>\n",
       "      <td>1988</td>\n",
       "      <td>15</td>\n",
       "    </tr>\n",
       "    <tr>\n",
       "      <th>34</th>\n",
       "      <td>1985</td>\n",
       "      <td>14</td>\n",
       "    </tr>\n",
       "    <tr>\n",
       "      <th>35</th>\n",
       "      <td>1984</td>\n",
       "      <td>14</td>\n",
       "    </tr>\n",
       "    <tr>\n",
       "      <th>36</th>\n",
       "      <td>1980</td>\n",
       "      <td>9</td>\n",
       "    </tr>\n",
       "  </tbody>\n",
       "</table>\n",
       "</div>"
      ],
      "text/plain": [
       "    year_of_release  name\n",
       "0              2007  1466\n",
       "1              2008  1427\n",
       "2              2009  1426\n",
       "3              2010  1255\n",
       "4              2011  1136\n",
       "5              2006  1006\n",
       "6              2005   939\n",
       "7              2002   829\n",
       "8              2003   775\n",
       "9              2004   762\n",
       "10             2012   652\n",
       "11             2015   606\n",
       "12             2014   581\n",
       "13             2013   544\n",
       "14             2016   502\n",
       "15             2001   482\n",
       "16             1998   379\n",
       "17             2000   350\n",
       "18             1999   338\n",
       "19             1997   289\n",
       "20             1996   263\n",
       "21             1995   219\n",
       "22             1994   121\n",
       "23             1993    60\n",
       "24             1981    46\n",
       "25             1992    43\n",
       "26             1991    41\n",
       "27             1982    36\n",
       "28             1986    21\n",
       "29             1989    17\n",
       "30             1983    17\n",
       "31             1990    16\n",
       "32             1987    16\n",
       "33             1988    15\n",
       "34             1985    14\n",
       "35             1984    14\n",
       "36             1980     9"
      ]
     },
     "metadata": {},
     "output_type": "display_data"
    }
   ],
   "source": [
    "# Agrupando la información\n",
    "yearly_games = df_games.groupby('year_of_release')['name'].count().sort_values(ascending=False).reset_index()\n",
    "\n",
    "# Mostramos una tabla con los resultados\n",
    "display(yearly_games)"
   ]
  },
  {
   "cell_type": "code",
   "execution_count": 34,
   "metadata": {},
   "outputs": [
    {
     "data": {
      "image/png": "[encoded data removed]",
      "text/plain": [
       "<Figure size 800x600 with 1 Axes>"
      ]
     },
     "metadata": {},
     "output_type": "display_data"
    }
   ],
   "source": [
    "# Mostramos los resultados en una gráfica de barras\n",
    "yearly_games.plot(kind='bar',\n",
    "                x='year_of_release',\n",
    "                title='Lanzamientos por Año',\n",
    "                xlabel='Año',\n",
    "                ylabel='Juegos',\n",
    "                figsize=(8,6))\n",
    "\n",
    "plt.show()"
   ]
  },
  {
   "cell_type": "markdown",
   "metadata": {},
   "source": [
    "Como podemos ver en los resultados, notamos que los años que tuvieron mas lanzamientos fueron los años 2007 con 1466 lanzamientos, seguido del año 2008 con 1427 casi a la par del 2009 con tan solo un lanzamiento de diferencia (1426). Adicional a esto podemos notar en la gráfica que a partir del año 2000 el lanzamiento de juegos al año aumento y aparir del 2009 empezó a disminuir encontrando un constante variación entre 600 - 700 juegos al año desde el 2012 hacia adelante. "
   ]
  },
  {
   "cell_type": "markdown",
   "metadata": {},
   "source": [
    "Continuamos con la variación de ventas por plataforma. Para ello complementaremos la información que tenemos haciendo una columna sumando todas las ventas recabadas."
   ]
  },
  {
   "cell_type": "code",
   "execution_count": 35,
   "metadata": {},
   "outputs": [
    {
     "data": {
      "text/html": [
       "<div>\n",
       "<style scoped>\n",
       "    .dataframe tbody tr th:only-of-type {\n",
       "        vertical-align: middle;\n",
       "    }\n",
       "\n",
       "    .dataframe tbody tr th {\n",
       "        vertical-align: top;\n",
       "    }\n",
       "\n",
       "    .dataframe thead th {\n",
       "        text-align: right;\n",
       "    }\n",
       "</style>\n",
       "<table border=\"1\" class=\"dataframe\">\n",
       "  <thead>\n",
       "    <tr style=\"text-align: right;\">\n",
       "      <th></th>\n",
       "      <th>platform</th>\n",
       "      <th>na_sales</th>\n",
       "      <th>eu_sales</th>\n",
       "      <th>jp_sales</th>\n",
       "      <th>other_sales</th>\n",
       "      <th>total_sales</th>\n",
       "    </tr>\n",
       "  </thead>\n",
       "  <tbody>\n",
       "    <tr>\n",
       "      <th>0</th>\n",
       "      <td>PS2</td>\n",
       "      <td>583.84</td>\n",
       "      <td>339.29</td>\n",
       "      <td>139.20</td>\n",
       "      <td>193.44</td>\n",
       "      <td>1255.77</td>\n",
       "    </tr>\n",
       "    <tr>\n",
       "      <th>1</th>\n",
       "      <td>X360</td>\n",
       "      <td>602.47</td>\n",
       "      <td>270.76</td>\n",
       "      <td>12.43</td>\n",
       "      <td>85.76</td>\n",
       "      <td>971.42</td>\n",
       "    </tr>\n",
       "    <tr>\n",
       "      <th>2</th>\n",
       "      <td>PS3</td>\n",
       "      <td>393.49</td>\n",
       "      <td>330.29</td>\n",
       "      <td>80.19</td>\n",
       "      <td>135.68</td>\n",
       "      <td>939.65</td>\n",
       "    </tr>\n",
       "    <tr>\n",
       "      <th>3</th>\n",
       "      <td>Wii</td>\n",
       "      <td>496.90</td>\n",
       "      <td>262.21</td>\n",
       "      <td>69.33</td>\n",
       "      <td>79.07</td>\n",
       "      <td>907.51</td>\n",
       "    </tr>\n",
       "    <tr>\n",
       "      <th>4</th>\n",
       "      <td>DS</td>\n",
       "      <td>382.40</td>\n",
       "      <td>188.89</td>\n",
       "      <td>175.57</td>\n",
       "      <td>59.26</td>\n",
       "      <td>806.12</td>\n",
       "    </tr>\n",
       "    <tr>\n",
       "      <th>5</th>\n",
       "      <td>PS</td>\n",
       "      <td>336.52</td>\n",
       "      <td>213.61</td>\n",
       "      <td>139.82</td>\n",
       "      <td>40.91</td>\n",
       "      <td>730.86</td>\n",
       "    </tr>\n",
       "    <tr>\n",
       "      <th>6</th>\n",
       "      <td>GBA</td>\n",
       "      <td>187.54</td>\n",
       "      <td>75.25</td>\n",
       "      <td>47.33</td>\n",
       "      <td>7.73</td>\n",
       "      <td>317.85</td>\n",
       "    </tr>\n",
       "    <tr>\n",
       "      <th>7</th>\n",
       "      <td>PS4</td>\n",
       "      <td>108.74</td>\n",
       "      <td>141.09</td>\n",
       "      <td>15.96</td>\n",
       "      <td>48.35</td>\n",
       "      <td>314.14</td>\n",
       "    </tr>\n",
       "    <tr>\n",
       "      <th>8</th>\n",
       "      <td>PSP</td>\n",
       "      <td>109.17</td>\n",
       "      <td>66.68</td>\n",
       "      <td>76.78</td>\n",
       "      <td>41.42</td>\n",
       "      <td>294.05</td>\n",
       "    </tr>\n",
       "    <tr>\n",
       "      <th>9</th>\n",
       "      <td>PC</td>\n",
       "      <td>94.53</td>\n",
       "      <td>142.44</td>\n",
       "      <td>0.17</td>\n",
       "      <td>22.38</td>\n",
       "      <td>259.52</td>\n",
       "    </tr>\n",
       "    <tr>\n",
       "      <th>10</th>\n",
       "      <td>3DS</td>\n",
       "      <td>83.49</td>\n",
       "      <td>61.48</td>\n",
       "      <td>100.67</td>\n",
       "      <td>13.36</td>\n",
       "      <td>259.00</td>\n",
       "    </tr>\n",
       "    <tr>\n",
       "      <th>11</th>\n",
       "      <td>XB</td>\n",
       "      <td>186.69</td>\n",
       "      <td>60.95</td>\n",
       "      <td>1.38</td>\n",
       "      <td>8.72</td>\n",
       "      <td>257.74</td>\n",
       "    </tr>\n",
       "    <tr>\n",
       "      <th>12</th>\n",
       "      <td>GB</td>\n",
       "      <td>114.32</td>\n",
       "      <td>47.82</td>\n",
       "      <td>85.12</td>\n",
       "      <td>8.20</td>\n",
       "      <td>255.46</td>\n",
       "    </tr>\n",
       "    <tr>\n",
       "      <th>13</th>\n",
       "      <td>NES</td>\n",
       "      <td>125.94</td>\n",
       "      <td>21.15</td>\n",
       "      <td>98.65</td>\n",
       "      <td>5.31</td>\n",
       "      <td>251.05</td>\n",
       "    </tr>\n",
       "    <tr>\n",
       "      <th>14</th>\n",
       "      <td>N64</td>\n",
       "      <td>139.02</td>\n",
       "      <td>41.06</td>\n",
       "      <td>34.22</td>\n",
       "      <td>4.38</td>\n",
       "      <td>218.68</td>\n",
       "    </tr>\n",
       "    <tr>\n",
       "      <th>15</th>\n",
       "      <td>SNES</td>\n",
       "      <td>61.23</td>\n",
       "      <td>19.04</td>\n",
       "      <td>116.55</td>\n",
       "      <td>3.22</td>\n",
       "      <td>200.04</td>\n",
       "    </tr>\n",
       "    <tr>\n",
       "      <th>16</th>\n",
       "      <td>GC</td>\n",
       "      <td>133.46</td>\n",
       "      <td>38.71</td>\n",
       "      <td>21.58</td>\n",
       "      <td>5.18</td>\n",
       "      <td>198.93</td>\n",
       "    </tr>\n",
       "    <tr>\n",
       "      <th>17</th>\n",
       "      <td>XOne</td>\n",
       "      <td>93.12</td>\n",
       "      <td>51.59</td>\n",
       "      <td>0.34</td>\n",
       "      <td>14.27</td>\n",
       "      <td>159.32</td>\n",
       "    </tr>\n",
       "    <tr>\n",
       "      <th>18</th>\n",
       "      <td>2600</td>\n",
       "      <td>90.60</td>\n",
       "      <td>5.47</td>\n",
       "      <td>0.00</td>\n",
       "      <td>0.91</td>\n",
       "      <td>96.98</td>\n",
       "    </tr>\n",
       "    <tr>\n",
       "      <th>19</th>\n",
       "      <td>WiiU</td>\n",
       "      <td>38.10</td>\n",
       "      <td>25.13</td>\n",
       "      <td>13.01</td>\n",
       "      <td>5.95</td>\n",
       "      <td>82.19</td>\n",
       "    </tr>\n",
       "    <tr>\n",
       "      <th>20</th>\n",
       "      <td>PSV</td>\n",
       "      <td>12.58</td>\n",
       "      <td>13.12</td>\n",
       "      <td>21.91</td>\n",
       "      <td>6.46</td>\n",
       "      <td>54.07</td>\n",
       "    </tr>\n",
       "    <tr>\n",
       "      <th>21</th>\n",
       "      <td>SAT</td>\n",
       "      <td>0.72</td>\n",
       "      <td>0.54</td>\n",
       "      <td>32.26</td>\n",
       "      <td>0.07</td>\n",
       "      <td>33.59</td>\n",
       "    </tr>\n",
       "    <tr>\n",
       "      <th>22</th>\n",
       "      <td>GEN</td>\n",
       "      <td>19.27</td>\n",
       "      <td>5.52</td>\n",
       "      <td>2.67</td>\n",
       "      <td>0.89</td>\n",
       "      <td>28.35</td>\n",
       "    </tr>\n",
       "    <tr>\n",
       "      <th>23</th>\n",
       "      <td>DC</td>\n",
       "      <td>5.43</td>\n",
       "      <td>1.69</td>\n",
       "      <td>8.56</td>\n",
       "      <td>0.27</td>\n",
       "      <td>15.95</td>\n",
       "    </tr>\n",
       "    <tr>\n",
       "      <th>24</th>\n",
       "      <td>SCD</td>\n",
       "      <td>1.00</td>\n",
       "      <td>0.36</td>\n",
       "      <td>0.45</td>\n",
       "      <td>0.05</td>\n",
       "      <td>1.86</td>\n",
       "    </tr>\n",
       "    <tr>\n",
       "      <th>25</th>\n",
       "      <td>NG</td>\n",
       "      <td>0.00</td>\n",
       "      <td>0.00</td>\n",
       "      <td>1.44</td>\n",
       "      <td>0.00</td>\n",
       "      <td>1.44</td>\n",
       "    </tr>\n",
       "    <tr>\n",
       "      <th>26</th>\n",
       "      <td>WS</td>\n",
       "      <td>0.00</td>\n",
       "      <td>0.00</td>\n",
       "      <td>1.42</td>\n",
       "      <td>0.00</td>\n",
       "      <td>1.42</td>\n",
       "    </tr>\n",
       "    <tr>\n",
       "      <th>27</th>\n",
       "      <td>TG16</td>\n",
       "      <td>0.00</td>\n",
       "      <td>0.00</td>\n",
       "      <td>0.16</td>\n",
       "      <td>0.00</td>\n",
       "      <td>0.16</td>\n",
       "    </tr>\n",
       "    <tr>\n",
       "      <th>28</th>\n",
       "      <td>3DO</td>\n",
       "      <td>0.00</td>\n",
       "      <td>0.00</td>\n",
       "      <td>0.10</td>\n",
       "      <td>0.00</td>\n",
       "      <td>0.10</td>\n",
       "    </tr>\n",
       "    <tr>\n",
       "      <th>29</th>\n",
       "      <td>GG</td>\n",
       "      <td>0.00</td>\n",
       "      <td>0.00</td>\n",
       "      <td>0.04</td>\n",
       "      <td>0.00</td>\n",
       "      <td>0.04</td>\n",
       "    </tr>\n",
       "    <tr>\n",
       "      <th>30</th>\n",
       "      <td>PCFX</td>\n",
       "      <td>0.00</td>\n",
       "      <td>0.00</td>\n",
       "      <td>0.03</td>\n",
       "      <td>0.00</td>\n",
       "      <td>0.03</td>\n",
       "    </tr>\n",
       "  </tbody>\n",
       "</table>\n",
       "</div>"
      ],
      "text/plain": [
       "   platform  na_sales  eu_sales  jp_sales  other_sales  total_sales\n",
       "0       PS2    583.84    339.29    139.20       193.44      1255.77\n",
       "1      X360    602.47    270.76     12.43        85.76       971.42\n",
       "2       PS3    393.49    330.29     80.19       135.68       939.65\n",
       "3       Wii    496.90    262.21     69.33        79.07       907.51\n",
       "4        DS    382.40    188.89    175.57        59.26       806.12\n",
       "5        PS    336.52    213.61    139.82        40.91       730.86\n",
       "6       GBA    187.54     75.25     47.33         7.73       317.85\n",
       "7       PS4    108.74    141.09     15.96        48.35       314.14\n",
       "8       PSP    109.17     66.68     76.78        41.42       294.05\n",
       "9        PC     94.53    142.44      0.17        22.38       259.52\n",
       "10      3DS     83.49     61.48    100.67        13.36       259.00\n",
       "11       XB    186.69     60.95      1.38         8.72       257.74\n",
       "12       GB    114.32     47.82     85.12         8.20       255.46\n",
       "13      NES    125.94     21.15     98.65         5.31       251.05\n",
       "14      N64    139.02     41.06     34.22         4.38       218.68\n",
       "15     SNES     61.23     19.04    116.55         3.22       200.04\n",
       "16       GC    133.46     38.71     21.58         5.18       198.93\n",
       "17     XOne     93.12     51.59      0.34        14.27       159.32\n",
       "18     2600     90.60      5.47      0.00         0.91        96.98\n",
       "19     WiiU     38.10     25.13     13.01         5.95        82.19\n",
       "20      PSV     12.58     13.12     21.91         6.46        54.07\n",
       "21      SAT      0.72      0.54     32.26         0.07        33.59\n",
       "22      GEN     19.27      5.52      2.67         0.89        28.35\n",
       "23       DC      5.43      1.69      8.56         0.27        15.95\n",
       "24      SCD      1.00      0.36      0.45         0.05         1.86\n",
       "25       NG      0.00      0.00      1.44         0.00         1.44\n",
       "26       WS      0.00      0.00      1.42         0.00         1.42\n",
       "27     TG16      0.00      0.00      0.16         0.00         0.16\n",
       "28      3DO      0.00      0.00      0.10         0.00         0.10\n",
       "29       GG      0.00      0.00      0.04         0.00         0.04\n",
       "30     PCFX      0.00      0.00      0.03         0.00         0.03"
      ]
     },
     "metadata": {},
     "output_type": "display_data"
    }
   ],
   "source": [
    "# Creamos una columna nueva llamada \"total_sales\" donde sumaremos las ventas totales por titulo.\n",
    "df_games['total_sales'] = df_games['na_sales'] + df_games['eu_sales'] + df_games['jp_sales'] + df_games['other_sales']\n",
    "\n",
    "# Agrupamos los datos con respecto a plataformas\n",
    "platform_sales = df_games.groupby('platform')[['na_sales','eu_sales','jp_sales','other_sales','total_sales']] \\\n",
    "    .sum().sort_values(by='total_sales', ascending=False).reset_index()\n",
    "\n",
    "# Mostramos el resultado\n",
    "display(platform_sales)"
   ]
  },
  {
   "cell_type": "code",
   "execution_count": 36,
   "metadata": {},
   "outputs": [
    {
     "data": {
      "image/png": "[encoded data removed]",
      "text/plain": [
       "<Figure size 800x600 with 1 Axes>"
      ]
     },
     "metadata": {},
     "output_type": "display_data"
    }
   ],
   "source": [
    "# Creamos una gráfica con el top 10 plataformas con mayores ventas totales.\n",
    "platform_sales[['platform','total_sales']].head(10).plot(kind='bar',\n",
    "                            x = 'platform',\n",
    "                            title='Ventas por Plataforma',\n",
    "                            xlabel='Plataforma',\n",
    "                            ylabel=\"Ventas en Millones de USD's\",\n",
    "                            figsize=(8,6))\n",
    "plt.show()"
   ]
  },
  {
   "cell_type": "markdown",
   "metadata": {},
   "source": [
    "Como podemos ver la plataforma con mas ventas en el DataSet es PS2 o por sus siglas \"Play Station 2\". Ahora veamos el comportamiento de las ventas por plataforma a lo largo de los años, para ello escogeremos las plataformas PS2, X360, PS3, Wii y DS."
   ]
  },
  {
   "cell_type": "code",
   "execution_count": 37,
   "metadata": {},
   "outputs": [
    {
     "data": {
      "text/html": [
       "<div>\n",
       "<style scoped>\n",
       "    .dataframe tbody tr th:only-of-type {\n",
       "        vertical-align: middle;\n",
       "    }\n",
       "\n",
       "    .dataframe tbody tr th {\n",
       "        vertical-align: top;\n",
       "    }\n",
       "\n",
       "    .dataframe thead th {\n",
       "        text-align: right;\n",
       "    }\n",
       "</style>\n",
       "<table border=\"1\" class=\"dataframe\">\n",
       "  <thead>\n",
       "    <tr style=\"text-align: right;\">\n",
       "      <th></th>\n",
       "      <th>year_of_release</th>\n",
       "      <th>platform</th>\n",
       "      <th>total_sales</th>\n",
       "    </tr>\n",
       "  </thead>\n",
       "  <tbody>\n",
       "    <tr>\n",
       "      <th>0</th>\n",
       "      <td>1985</td>\n",
       "      <td>DS</td>\n",
       "      <td>0.02</td>\n",
       "    </tr>\n",
       "    <tr>\n",
       "      <th>1</th>\n",
       "      <td>2000</td>\n",
       "      <td>PS2</td>\n",
       "      <td>39.17</td>\n",
       "    </tr>\n",
       "    <tr>\n",
       "      <th>2</th>\n",
       "      <td>2001</td>\n",
       "      <td>PS2</td>\n",
       "      <td>166.43</td>\n",
       "    </tr>\n",
       "    <tr>\n",
       "      <th>3</th>\n",
       "      <td>2002</td>\n",
       "      <td>PS2</td>\n",
       "      <td>205.38</td>\n",
       "    </tr>\n",
       "    <tr>\n",
       "      <th>4</th>\n",
       "      <td>2003</td>\n",
       "      <td>PS2</td>\n",
       "      <td>184.31</td>\n",
       "    </tr>\n",
       "    <tr>\n",
       "      <th>5</th>\n",
       "      <td>2004</td>\n",
       "      <td>DS</td>\n",
       "      <td>17.27</td>\n",
       "    </tr>\n",
       "    <tr>\n",
       "      <th>6</th>\n",
       "      <td>2004</td>\n",
       "      <td>PS2</td>\n",
       "      <td>211.81</td>\n",
       "    </tr>\n",
       "    <tr>\n",
       "      <th>7</th>\n",
       "      <td>2005</td>\n",
       "      <td>DS</td>\n",
       "      <td>130.14</td>\n",
       "    </tr>\n",
       "    <tr>\n",
       "      <th>8</th>\n",
       "      <td>2005</td>\n",
       "      <td>PS2</td>\n",
       "      <td>160.66</td>\n",
       "    </tr>\n",
       "    <tr>\n",
       "      <th>9</th>\n",
       "      <td>2005</td>\n",
       "      <td>X360</td>\n",
       "      <td>8.25</td>\n",
       "    </tr>\n",
       "    <tr>\n",
       "      <th>10</th>\n",
       "      <td>2006</td>\n",
       "      <td>DS</td>\n",
       "      <td>119.81</td>\n",
       "    </tr>\n",
       "    <tr>\n",
       "      <th>11</th>\n",
       "      <td>2006</td>\n",
       "      <td>PS2</td>\n",
       "      <td>103.42</td>\n",
       "    </tr>\n",
       "    <tr>\n",
       "      <th>12</th>\n",
       "      <td>2006</td>\n",
       "      <td>PS3</td>\n",
       "      <td>20.96</td>\n",
       "    </tr>\n",
       "    <tr>\n",
       "      <th>13</th>\n",
       "      <td>2006</td>\n",
       "      <td>Wii</td>\n",
       "      <td>137.15</td>\n",
       "    </tr>\n",
       "    <tr>\n",
       "      <th>14</th>\n",
       "      <td>2006</td>\n",
       "      <td>X360</td>\n",
       "      <td>51.62</td>\n",
       "    </tr>\n",
       "    <tr>\n",
       "      <th>15</th>\n",
       "      <td>2007</td>\n",
       "      <td>DS</td>\n",
       "      <td>150.28</td>\n",
       "    </tr>\n",
       "    <tr>\n",
       "      <th>16</th>\n",
       "      <td>2007</td>\n",
       "      <td>PS2</td>\n",
       "      <td>98.20</td>\n",
       "    </tr>\n",
       "    <tr>\n",
       "      <th>17</th>\n",
       "      <td>2007</td>\n",
       "      <td>PS3</td>\n",
       "      <td>81.50</td>\n",
       "    </tr>\n",
       "    <tr>\n",
       "      <th>18</th>\n",
       "      <td>2007</td>\n",
       "      <td>Wii</td>\n",
       "      <td>169.10</td>\n",
       "    </tr>\n",
       "    <tr>\n",
       "      <th>19</th>\n",
       "      <td>2007</td>\n",
       "      <td>X360</td>\n",
       "      <td>105.59</td>\n",
       "    </tr>\n",
       "    <tr>\n",
       "      <th>20</th>\n",
       "      <td>2008</td>\n",
       "      <td>DS</td>\n",
       "      <td>145.31</td>\n",
       "    </tr>\n",
       "    <tr>\n",
       "      <th>21</th>\n",
       "      <td>2008</td>\n",
       "      <td>PS2</td>\n",
       "      <td>53.90</td>\n",
       "    </tr>\n",
       "    <tr>\n",
       "      <th>22</th>\n",
       "      <td>2008</td>\n",
       "      <td>PS3</td>\n",
       "      <td>118.52</td>\n",
       "    </tr>\n",
       "    <tr>\n",
       "      <th>23</th>\n",
       "      <td>2008</td>\n",
       "      <td>Wii</td>\n",
       "      <td>171.32</td>\n",
       "    </tr>\n",
       "    <tr>\n",
       "      <th>24</th>\n",
       "      <td>2008</td>\n",
       "      <td>X360</td>\n",
       "      <td>135.26</td>\n",
       "    </tr>\n",
       "    <tr>\n",
       "      <th>25</th>\n",
       "      <td>2009</td>\n",
       "      <td>DS</td>\n",
       "      <td>119.54</td>\n",
       "    </tr>\n",
       "    <tr>\n",
       "      <th>26</th>\n",
       "      <td>2009</td>\n",
       "      <td>PS2</td>\n",
       "      <td>26.40</td>\n",
       "    </tr>\n",
       "    <tr>\n",
       "      <th>27</th>\n",
       "      <td>2009</td>\n",
       "      <td>PS3</td>\n",
       "      <td>130.93</td>\n",
       "    </tr>\n",
       "    <tr>\n",
       "      <th>28</th>\n",
       "      <td>2009</td>\n",
       "      <td>Wii</td>\n",
       "      <td>206.97</td>\n",
       "    </tr>\n",
       "    <tr>\n",
       "      <th>29</th>\n",
       "      <td>2009</td>\n",
       "      <td>X360</td>\n",
       "      <td>120.29</td>\n",
       "    </tr>\n",
       "    <tr>\n",
       "      <th>30</th>\n",
       "      <td>2010</td>\n",
       "      <td>DS</td>\n",
       "      <td>85.02</td>\n",
       "    </tr>\n",
       "    <tr>\n",
       "      <th>31</th>\n",
       "      <td>2010</td>\n",
       "      <td>PS2</td>\n",
       "      <td>5.64</td>\n",
       "    </tr>\n",
       "    <tr>\n",
       "      <th>32</th>\n",
       "      <td>2010</td>\n",
       "      <td>PS3</td>\n",
       "      <td>142.17</td>\n",
       "    </tr>\n",
       "    <tr>\n",
       "      <th>33</th>\n",
       "      <td>2010</td>\n",
       "      <td>Wii</td>\n",
       "      <td>127.95</td>\n",
       "    </tr>\n",
       "    <tr>\n",
       "      <th>34</th>\n",
       "      <td>2010</td>\n",
       "      <td>X360</td>\n",
       "      <td>170.03</td>\n",
       "    </tr>\n",
       "    <tr>\n",
       "      <th>35</th>\n",
       "      <td>2011</td>\n",
       "      <td>DS</td>\n",
       "      <td>26.18</td>\n",
       "    </tr>\n",
       "    <tr>\n",
       "      <th>36</th>\n",
       "      <td>2011</td>\n",
       "      <td>PS2</td>\n",
       "      <td>0.45</td>\n",
       "    </tr>\n",
       "    <tr>\n",
       "      <th>37</th>\n",
       "      <td>2011</td>\n",
       "      <td>PS3</td>\n",
       "      <td>156.78</td>\n",
       "    </tr>\n",
       "    <tr>\n",
       "      <th>38</th>\n",
       "      <td>2011</td>\n",
       "      <td>Wii</td>\n",
       "      <td>59.65</td>\n",
       "    </tr>\n",
       "    <tr>\n",
       "      <th>39</th>\n",
       "      <td>2011</td>\n",
       "      <td>X360</td>\n",
       "      <td>143.84</td>\n",
       "    </tr>\n",
       "    <tr>\n",
       "      <th>40</th>\n",
       "      <td>2012</td>\n",
       "      <td>DS</td>\n",
       "      <td>11.01</td>\n",
       "    </tr>\n",
       "    <tr>\n",
       "      <th>41</th>\n",
       "      <td>2012</td>\n",
       "      <td>PS3</td>\n",
       "      <td>107.36</td>\n",
       "    </tr>\n",
       "    <tr>\n",
       "      <th>42</th>\n",
       "      <td>2012</td>\n",
       "      <td>Wii</td>\n",
       "      <td>21.71</td>\n",
       "    </tr>\n",
       "    <tr>\n",
       "      <th>43</th>\n",
       "      <td>2012</td>\n",
       "      <td>X360</td>\n",
       "      <td>99.74</td>\n",
       "    </tr>\n",
       "    <tr>\n",
       "      <th>44</th>\n",
       "      <td>2013</td>\n",
       "      <td>DS</td>\n",
       "      <td>1.54</td>\n",
       "    </tr>\n",
       "    <tr>\n",
       "      <th>45</th>\n",
       "      <td>2013</td>\n",
       "      <td>PS3</td>\n",
       "      <td>113.25</td>\n",
       "    </tr>\n",
       "    <tr>\n",
       "      <th>46</th>\n",
       "      <td>2013</td>\n",
       "      <td>Wii</td>\n",
       "      <td>8.59</td>\n",
       "    </tr>\n",
       "    <tr>\n",
       "      <th>47</th>\n",
       "      <td>2013</td>\n",
       "      <td>X360</td>\n",
       "      <td>88.58</td>\n",
       "    </tr>\n",
       "    <tr>\n",
       "      <th>48</th>\n",
       "      <td>2014</td>\n",
       "      <td>PS3</td>\n",
       "      <td>47.76</td>\n",
       "    </tr>\n",
       "    <tr>\n",
       "      <th>49</th>\n",
       "      <td>2014</td>\n",
       "      <td>Wii</td>\n",
       "      <td>3.75</td>\n",
       "    </tr>\n",
       "    <tr>\n",
       "      <th>50</th>\n",
       "      <td>2014</td>\n",
       "      <td>X360</td>\n",
       "      <td>34.74</td>\n",
       "    </tr>\n",
       "    <tr>\n",
       "      <th>51</th>\n",
       "      <td>2015</td>\n",
       "      <td>PS3</td>\n",
       "      <td>16.82</td>\n",
       "    </tr>\n",
       "    <tr>\n",
       "      <th>52</th>\n",
       "      <td>2015</td>\n",
       "      <td>Wii</td>\n",
       "      <td>1.14</td>\n",
       "    </tr>\n",
       "    <tr>\n",
       "      <th>53</th>\n",
       "      <td>2015</td>\n",
       "      <td>X360</td>\n",
       "      <td>11.96</td>\n",
       "    </tr>\n",
       "    <tr>\n",
       "      <th>54</th>\n",
       "      <td>2016</td>\n",
       "      <td>PS3</td>\n",
       "      <td>3.60</td>\n",
       "    </tr>\n",
       "    <tr>\n",
       "      <th>55</th>\n",
       "      <td>2016</td>\n",
       "      <td>Wii</td>\n",
       "      <td>0.18</td>\n",
       "    </tr>\n",
       "    <tr>\n",
       "      <th>56</th>\n",
       "      <td>2016</td>\n",
       "      <td>X360</td>\n",
       "      <td>1.52</td>\n",
       "    </tr>\n",
       "  </tbody>\n",
       "</table>\n",
       "</div>"
      ],
      "text/plain": [
       "    year_of_release platform  total_sales\n",
       "0              1985       DS         0.02\n",
       "1              2000      PS2        39.17\n",
       "2              2001      PS2       166.43\n",
       "3              2002      PS2       205.38\n",
       "4              2003      PS2       184.31\n",
       "5              2004       DS        17.27\n",
       "6              2004      PS2       211.81\n",
       "7              2005       DS       130.14\n",
       "8              2005      PS2       160.66\n",
       "9              2005     X360         8.25\n",
       "10             2006       DS       119.81\n",
       "11             2006      PS2       103.42\n",
       "12             2006      PS3        20.96\n",
       "13             2006      Wii       137.15\n",
       "14             2006     X360        51.62\n",
       "15             2007       DS       150.28\n",
       "16             2007      PS2        98.20\n",
       "17             2007      PS3        81.50\n",
       "18             2007      Wii       169.10\n",
       "19             2007     X360       105.59\n",
       "20             2008       DS       145.31\n",
       "21             2008      PS2        53.90\n",
       "22             2008      PS3       118.52\n",
       "23             2008      Wii       171.32\n",
       "24             2008     X360       135.26\n",
       "25             2009       DS       119.54\n",
       "26             2009      PS2        26.40\n",
       "27             2009      PS3       130.93\n",
       "28             2009      Wii       206.97\n",
       "29             2009     X360       120.29\n",
       "30             2010       DS        85.02\n",
       "31             2010      PS2         5.64\n",
       "32             2010      PS3       142.17\n",
       "33             2010      Wii       127.95\n",
       "34             2010     X360       170.03\n",
       "35             2011       DS        26.18\n",
       "36             2011      PS2         0.45\n",
       "37             2011      PS3       156.78\n",
       "38             2011      Wii        59.65\n",
       "39             2011     X360       143.84\n",
       "40             2012       DS        11.01\n",
       "41             2012      PS3       107.36\n",
       "42             2012      Wii        21.71\n",
       "43             2012     X360        99.74\n",
       "44             2013       DS         1.54\n",
       "45             2013      PS3       113.25\n",
       "46             2013      Wii         8.59\n",
       "47             2013     X360        88.58\n",
       "48             2014      PS3        47.76\n",
       "49             2014      Wii         3.75\n",
       "50             2014     X360        34.74\n",
       "51             2015      PS3        16.82\n",
       "52             2015      Wii         1.14\n",
       "53             2015     X360        11.96\n",
       "54             2016      PS3         3.60\n",
       "55             2016      Wii         0.18\n",
       "56             2016     X360         1.52"
      ]
     },
     "metadata": {},
     "output_type": "display_data"
    }
   ],
   "source": [
    "# Hacemos una lista con las plataformas a analizar\n",
    "platforms = platform_sales['platform'].head(5)\n",
    "\n",
    "# Filtramos de acuerdo a la lista \"platforms\"\n",
    "year_platform_sales_filter = df_games[df_games['platform'].isin(platforms)]\n",
    "\n",
    "# Agrupamos por año y ventas\n",
    "year_platform_sales = year_platform_sales_filter.groupby(['year_of_release','platform'])['total_sales'] \\\n",
    "    .sum().sort_index().reset_index()\n",
    "\n",
    "# Mostramos el resultado\n",
    "display(year_platform_sales)\n"
   ]
  },
  {
   "cell_type": "code",
   "execution_count": 38,
   "metadata": {},
   "outputs": [
    {
     "data": {
      "image/png": "[encoded data removed]",
      "text/plain": [
       "<Figure size 640x480 with 1 Axes>"
      ]
     },
     "metadata": {},
     "output_type": "display_data"
    },
    {
     "data": {
      "image/png": "[encoded data removed]",
      "text/plain": [
       "<Figure size 640x480 with 1 Axes>"
      ]
     },
     "metadata": {},
     "output_type": "display_data"
    },
    {
     "data": {
      "image/png": "[encoded data removed]",
      "text/plain": [
       "<Figure size 640x480 with 1 Axes>"
      ]
     },
     "metadata": {},
     "output_type": "display_data"
    },
    {
     "data": {
      "image/png": "[encoded data removed]",
      "text/plain": [
       "<Figure size 640x480 with 1 Axes>"
      ]
     },
     "metadata": {},
     "output_type": "display_data"
    },
    {
     "data": {
      "image/png": "[encoded data removed]",
      "text/plain": [
       "<Figure size 640x480 with 1 Axes>"
      ]
     },
     "metadata": {},
     "output_type": "display_data"
    }
   ],
   "source": [
    "# Graficamos los resultados \n",
    "for platform in platforms:\n",
    "    year_platform_sales[year_platform_sales['platform'] == platform].plot(x = 'year_of_release',\n",
    "                                                                        y = 'total_sales')\n",
    "\n",
    "plt.title('Ventas por Año de distintas plataformas')\n",
    "plt.xlabel('Año')\n",
    "plt.ylabel('Ventas')\n",
    "plt.legend(platforms)\n",
    "\n",
    "plt.show()\n"
   ]
  },
  {
   "cell_type": "markdown",
   "metadata": {},
   "source": [
    "## Paso 4: Perfil de usuario para cada región\n",
    "\n",
    "Para cada región del dataset se realizaran las siguientes investigaciones: \n",
    "\n",
    "* Las cinco plataformas principales.\n",
    "* Los cinco géneros principales.\n",
    "* Si las clasificaciones de ESRB afectan las ventas regionales.\n",
    "\n"
   ]
  },
  {
   "cell_type": "code",
   "execution_count": null,
   "metadata": {},
   "outputs": [],
   "source": []
  },
  {
   "cell_type": "markdown",
   "metadata": {},
   "source": [
    "## Paso 5: Prueba de hipótesis\n",
    "\n",
    "Por ultimo, se probarán las siguientes hipótesis:\n",
    "\n",
    "* Las calificaciones promedio de los usuarios para las plataformas Xbox One y PC son las mismas.\n",
    "* Las calificaciones promedio de los usuarios para los géneros de Acción y Deportes son diferentes.\n",
    "\n"
   ]
  },
  {
   "cell_type": "code",
   "execution_count": null,
   "metadata": {},
   "outputs": [],
   "source": []
  },
  {
   "cell_type": "markdown",
   "metadata": {},
   "source": [
    "## Paso 6: Conclusiones generales\n",
    "\n",
    "Escribe aquí tu conclusión."
   ]
  },
  {
   "cell_type": "markdown",
   "metadata": {},
   "source": []
  }
 ],
 "metadata": {
  "kernelspec": {
   "display_name": "Python 3 (ipykernel)",
   "language": "python",
   "name": "python3"
  },
  "language_info": {
   "codemirror_mode": {
    "name": "ipython",
    "version": 3
   },
   "file_extension": ".py",
   "mimetype": "text/x-python",
   "name": "python",
   "nbconvert_exporter": "python",
   "pygments_lexer": "ipython3",
   "version": "3.11.5"
  }
 },
 "nbformat": 4,
 "nbformat_minor": 2
}
